{
 "cells": [
  {
   "cell_type": "markdown",
   "metadata": {
    "collapsed": true
   },
   "source": [
    "## Q1.\n",
    "\n",
    "Add methods `__iter__` to your project Time Series class to iterate over values, a method `itertimes` to iterate over times, a method `itervalues` to iterate over values, and a method `iteritems` to iterate over time-value pairs. (This is a similar interface to python dictionaries). To test these, check both the types of the results and the answers you expect."
   ]
  },
  {
   "cell_type": "code",
   "execution_count": 1,
   "metadata": {
    "collapsed": true
   },
   "outputs": [],
   "source": [
    "def __iter__(self):\n",
    "    for v in self._values:\n",
    "        yield v\n",
    "\n",
    "def itertimes(self):\n",
    "    for t in self._times:\n",
    "        yield t\n",
    "\n",
    "def itervalues(self):\n",
    "    for v in self._values:\n",
    "        yield v\n",
    "\n",
    "def iteritems(self):\n",
    "    for (t, v) in zip(self._times, self._values):\n",
    "        yield (t, v)\n"
   ]
  },
  {
   "cell_type": "markdown",
   "metadata": {},
   "source": [
    "## Q2.\n",
    "\n",
    "An online mean and standard deviation algorithm.\n",
    "\n",
    "Below is a function to generate a potentially infinite stream of 1-D data."
   ]
  },
  {
   "cell_type": "code",
   "execution_count": 2,
   "metadata": {
    "collapsed": false
   },
   "outputs": [],
   "source": [
    "from random import normalvariate, random\n",
    "from itertools import count\n",
    "def make_data(m, stop=None):\n",
    "    for _ in count():\n",
    "        if stop and _ > stop:\n",
    "            break\n",
    "        yield 1.0e09 + normalvariate(0, m*random() )\n",
    "        "
   ]
  },
  {
   "cell_type": "markdown",
   "metadata": {},
   "source": [
    "Here is an implementation of an online mean algorithm..see http://www.johndcook.com/blog/standard_deviation/ and the link to http://www.johndcook.com/blog/2008/09/26/comparing-three-methods-of-computing-standard-deviation/ in-between. (Convince yourselves of the formulas...)"
   ]
  },
  {
   "cell_type": "code",
   "execution_count": 3,
   "metadata": {
    "collapsed": true
   },
   "outputs": [],
   "source": [
    "def online_mean(iterator):\n",
    "    n = 0\n",
    "    mu = 0\n",
    "    for value in iterator:\n",
    "        n += 1\n",
    "        delta = value - mu\n",
    "        mu = mu + delta/n\n",
    "        yield mu"
   ]
  },
  {
   "cell_type": "markdown",
   "metadata": {},
   "source": [
    "We use out generator functions to implement iterators:"
   ]
  },
  {
   "cell_type": "code",
   "execution_count": 4,
   "metadata": {
    "collapsed": false
   },
   "outputs": [
    {
     "data": {
      "text/plain": [
       "[999999999.2710783,\n",
       " 1000000000.0729389,\n",
       " 1000000001.6190716,\n",
       " 1000000000.6817493,\n",
       " 999999994.2990803,\n",
       " 999999999.1130251,\n",
       " 1000000000.4452161,\n",
       " 1000000004.7200706,\n",
       " 999999997.7068175,\n",
       " 999999999.6564506,\n",
       " 999999999.9888841]"
      ]
     },
     "execution_count": 4,
     "metadata": {},
     "output_type": "execute_result"
    }
   ],
   "source": [
    "g = make_data(5, 10)\n",
    "list(g)"
   ]
  },
  {
   "cell_type": "code",
   "execution_count": 5,
   "metadata": {
    "collapsed": false
   },
   "outputs": [
    {
     "name": "stdout",
     "output_type": "stream",
     "text": [
      "<class 'generator'>\n"
     ]
    },
    {
     "data": {
      "text/plain": [
       "[1000000003.5073863,\n",
       " 1000000000.8165691,\n",
       " 1000000000.305948,\n",
       " 999999998.942487,\n",
       " 999999999.7109706,\n",
       " 1000000000.0458524,\n",
       " 999999999.3149323,\n",
       " 999999999.8643061,\n",
       " 999999999.6569027,\n",
       " 999999999.8564799,\n",
       " 999999999.908443]"
      ]
     },
     "execution_count": 5,
     "metadata": {},
     "output_type": "execute_result"
    }
   ],
   "source": [
    "g = online_mean(make_data(5, 10))\n",
    "print(type(g))\n",
    "list(g)"
   ]
  },
  {
   "cell_type": "markdown",
   "metadata": {},
   "source": [
    "### 2.1\n",
    "\n",
    "Implement the standard deviation algorithm as a generator function as\n",
    "\n",
    "```python\n",
    "def online_mean_dev(iterator):\n",
    "    BLA BLA\n",
    "    if n > 1:\n",
    "        stddev = math.sqrt(dev_accum/(n-1))\n",
    "        yield (n, value, mu, stddev)\n",
    "```"
   ]
  },
  {
   "cell_type": "code",
   "execution_count": 180,
   "metadata": {
    "collapsed": false
   },
   "outputs": [],
   "source": [
    "import math\n",
    "def online_mean_dev(iterator):\n",
    "    S = 0\n",
    "    n = 0\n",
    "    mu = 0\n",
    "    mu_prev = 0 \n",
    "    for x in iterator:\n",
    "        n += 1\n",
    "        delta = x - mu\n",
    "        mu += delta/n\n",
    "        S += (x - mu_prev)*(x - mu)\n",
    "        mu_prev = mu\n",
    "        if n > 1:\n",
    "            stddev = math.sqrt(S/(n-1))\n",
    "            yield (n, x, mu, stddev)"
   ]
  },
  {
   "cell_type": "markdown",
   "metadata": {},
   "source": [
    "Here we make 100000 element data, and run this iterator on it (imagine running this on a time-series being slowly read from disk"
   ]
  },
  {
   "cell_type": "code",
   "execution_count": 193,
   "metadata": {
    "collapsed": false
   },
   "outputs": [],
   "source": [
    "data_with_stats = online_mean_dev(make_data(5,100000))"
   ]
  },
  {
   "cell_type": "markdown",
   "metadata": {},
   "source": [
    "## Q3.\n",
    "\n",
    "Let's do Anomaly detection. Write a routine `is_ok`:\n",
    "\n",
    "```python\n",
    "def is_ok(level, t)\n",
    "```\n",
    "\n",
    "which takes a tuple like the one yielded by your code above and returns True if the value is inbetween `level`-$\\sigma$ of the mean."
   ]
  },
  {
   "cell_type": "code",
   "execution_count": 194,
   "metadata": {
    "collapsed": false
   },
   "outputs": [],
   "source": [
    "def is_ok(level, t):\n",
    "    n,val,mu,std = t\n",
    "    return True if (mu-level*std) < val < (mu+level*std) else False\n",
    "    "
   ]
  },
  {
   "cell_type": "markdown",
   "metadata": {},
   "source": [
    "We use this function to create a predicate passed through to `itertools.filterfalse` which is then used to obtain an iterator on the anomalies."
   ]
  },
  {
   "cell_type": "code",
   "execution_count": 195,
   "metadata": {
    "collapsed": true
   },
   "outputs": [],
   "source": [
    "from itertools import filterfalse\n",
    "pred = lambda t: is_ok(5, t)\n",
    "anomalies = filterfalse(pred, data_with_stats)"
   ]
  },
  {
   "cell_type": "markdown",
   "metadata": {},
   "source": [
    "We materialize the anomalies..."
   ]
  },
  {
   "cell_type": "code",
   "execution_count": 196,
   "metadata": {
    "collapsed": false
   },
   "outputs": [
    {
     "data": {
      "text/plain": [
       "[(1268, 999999984.7188612, 999999999.8752137, 2.9145943229430418),\n",
       " (2224, 1000000014.833243, 999999999.9735227, 2.89941967972494),\n",
       " (3945, 1000000014.6750737, 1000000000.0183676, 2.8863392516372315),\n",
       " (4121, 999999980.7254833, 1000000000.0210831, 2.8968806490296592),\n",
       " (17646, 1000000014.6138165, 1000000000.0236162, 2.8892674409126755),\n",
       " (18256, 999999983.7184129, 1000000000.0207312, 2.88641351445875),\n",
       " (18264, 1000000014.957017, 1000000000.021213, 2.8882388462086324),\n",
       " (18725, 1000000014.8059732, 1000000000.0199852, 2.8891700144631915),\n",
       " (24038, 1000000014.6281406, 1000000000.0178963, 2.8948375628233056),\n",
       " (24303, 1000000016.449877, 1000000000.019978, 2.898233346402561),\n",
       " (26572, 1000000014.5998565, 1000000000.0240046, 2.899570131997866),\n",
       " (29480, 999999984.5476906, 1000000000.01035, 2.9016545830695843),\n",
       " (35852, 1000000015.586729, 1000000000.01269, 2.898443583098256),\n",
       " (39559, 1000000014.7310599, 1000000000.0056897, 2.9000578868760143),\n",
       " (52085, 999999984.6970662, 1000000000.0080813, 2.8825835557659176),\n",
       " (54738, 1000000015.147943, 1000000000.0073645, 2.881856116230506),\n",
       " (56031, 1000000016.6234384, 1000000000.0095754, 2.8810684616323106),\n",
       " (59466, 1000000016.2857534, 1000000000.0100877, 2.885872554817212),\n",
       " (61440, 1000000014.7038815, 1000000000.0105596, 2.88306546742428),\n",
       " (62116, 999999982.9687756, 1000000000.0101516, 2.8842170639328653),\n",
       " (62384, 1000000014.5023568, 1000000000.0105549, 2.8849501664940953),\n",
       " (63369, 1000000014.74061, 1000000000.0125501, 2.887614374590685),\n",
       " (64107, 1000000015.1152377, 1000000000.0127223, 2.8881859180225256),\n",
       " (69506, 999999985.5217612, 1000000000.0098634, 2.888300363077288),\n",
       " (77511, 1000000014.628341, 1000000000.0029768, 2.890175163426269),\n",
       " (79263, 1000000016.7614887, 1000000000.002565, 2.8921125418957554),\n",
       " (81527, 1000000015.4470366, 1000000000.0041777, 2.895109355158929),\n",
       " (83840, 1000000014.7690625, 1000000000.005937, 2.89343699024377),\n",
       " (95002, 1000000014.7638308, 1000000000.003462, 2.892519569143811)]"
      ]
     },
     "execution_count": 196,
     "metadata": {},
     "output_type": "execute_result"
    }
   ],
   "source": [
    "list(anomalies)#materialize"
   ]
  },
  {
   "cell_type": "markdown",
   "metadata": {},
   "source": [
    "## To think of, but not hand in\n",
    "\n",
    "What kinds of anomalies will this algorithm pick up? What kinds would a shorter \"window\" of anomaly detection, like 100 points around the time in question pick? How might you create an algorithm which does window based averaging? (hint: the window size is small compared to the time series size). \n",
    "\n",
    "Finally think a bit of how you might implement all of this in a production environment..remember that data streaming in might get backed up when you handle an anomaly.\n",
    "\n",
    "(Some inspiration might accrue if you look at the docs for `collections.deque`)."
   ]
  },
  {
   "cell_type": "code",
   "execution_count": null,
   "metadata": {
    "collapsed": true
   },
   "outputs": [],
   "source": []
  }
 ],
 "metadata": {
  "kernelspec": {
   "display_name": "Python 3",
   "language": "python",
   "name": "python3"
  },
  "language_info": {
   "codemirror_mode": {
    "name": "ipython",
    "version": 3
   },
   "file_extension": ".py",
   "mimetype": "text/x-python",
   "name": "python",
   "nbconvert_exporter": "python",
   "pygments_lexer": "ipython3",
   "version": "3.5.1"
  }
 },
 "nbformat": 4,
 "nbformat_minor": 0
}
