{
 "cells": [
  {
   "cell_type": "markdown",
   "metadata": {},
   "source": [
    "## Q1. Dynamic Arrays\n",
    "\n",
    "In the dynamic arrays example in the lecture, we did not implement the `set` and `delete` interfaces. Implement them."
   ]
  },
  {
   "cell_type": "code",
   "execution_count": 1,
   "metadata": {
    "collapsed": false
   },
   "outputs": [
    {
     "name": "stdout",
     "output_type": "stream",
     "text": [
      "Overwriting dynamic_array.h\n"
     ]
    }
   ],
   "source": [
    "%%file dynamic_array.h\n",
    "\n",
    "\n",
    "typedef struct DArray {\n",
    "    int upto;\n",
    "    int size;\n",
    "    int *array;\n",
    "} DArray;\n",
    "\n",
    "int DArray_init(DArray* arr);\n",
    "int append(DArray* arr, int i);\n",
    "int get(DArray* arr, int index);\n",
    "int get_index(DArray* arr, int value);\n",
    "int set(DArray* arr, int index, int value);\n",
    "int delete(DArray* arr, int value);\n",
    "void DArray_free(DArray* arr);"
   ]
  },
  {
   "cell_type": "code",
   "execution_count": 2,
   "metadata": {
    "collapsed": false
   },
   "outputs": [
    {
     "name": "stdout",
     "output_type": "stream",
     "text": [
      "Overwriting dynamic_array2.c\n"
     ]
    }
   ],
   "source": [
    "%%file dynamic_array2.c\n",
    "\n",
    "#include <stdlib.h>\n",
    "#include <string.h>\n",
    "#include \"dynamic_array.h\"\n",
    "\n",
    "int CAPACITY_INIT = 1;\n",
    "int GROWTH_FACTOR = 2;\n",
    "\n",
    "int DArray_init(DArray* arr){\n",
    "    arr->array = (int *) malloc(CAPACITY_INIT*sizeof(int));\n",
    "    if (arr->array == NULL) {\n",
    "        return -1;\n",
    "    }\n",
    "    arr->upto = 0;\n",
    "    arr->size = CAPACITY_INIT;\n",
    "    return 1;\n",
    "}\n",
    "\n",
    "int append(DArray* arr, int i){\n",
    "    int *iptr;\n",
    "    if (arr->upto >= arr->size) {\n",
    "        /* tmp pointer needed below as if allocation failed, original array would be lost */\n",
    "        iptr = (int *) realloc(arr->array, arr->size*GROWTH_FACTOR*sizeof(int));\n",
    "        if (iptr == NULL) {\n",
    "            return -1;\n",
    "        }\n",
    "        arr->array = iptr;\n",
    "        arr->size *= GROWTH_FACTOR;\n",
    "    }\n",
    "    arr->array[arr->upto] = i;\n",
    "    return arr->upto++;\n",
    "    \n",
    "        \n",
    "}\n",
    "\n",
    "int get(DArray* arr, int index) {\n",
    "    if (index >= arr->upto || index < 0) {\n",
    "        return -1;\n",
    "    }\n",
    "    return arr->array[index];\n",
    "}\n",
    "\n",
    "int get_index(DArray* arr, int value) {\n",
    "    int i;\n",
    "    for (i=0; i< arr->upto; i++){\n",
    "        if (arr->array[i]==value) {\n",
    "            return i;\n",
    "        }\n",
    "    }\n",
    "    return -1;\n",
    "}\n",
    "\n",
    "int DArray_free(DArray *arr) {\n",
    "  free(arr->array);\n",
    "}\n",
    "\n",
    "int set(DArray* arr, int index, int value){}\n",
    "    if (index >= arr->upto || index < 0)\n",
    "        return -1;\n",
    "    arr[index] = num;\n",
    "    return arr;\n",
    "}\n",
    "\n",
    "int delete(DArray* arr, int value){\n",
    "    if (index >= arr->upto || index < 0)\n",
    "        return -1;\n",
    "    int i;\n",
    "    for(i=index;i < arr->upto - 1;i++){\n",
    "        arr->array[i] = arr[i+1];\n",
    "    }\n",
    "    arr->upto--;\n",
    "}"
   ]
  },
  {
   "cell_type": "markdown",
   "metadata": {},
   "source": [
    "We can test our code with the following new \"driver\" file."
   ]
  },
  {
   "cell_type": "code",
   "execution_count": 3,
   "metadata": {
    "collapsed": false
   },
   "outputs": [
    {
     "name": "stdout",
     "output_type": "stream",
     "text": [
      "Overwriting dademo2.c\n"
     ]
    }
   ],
   "source": [
    "%%file dademo2.c\n",
    "\n",
    "#include <stdio.h>\n",
    "#include \"dynamic_array.h\"\n",
    "\n",
    "int main() {\n",
    "    DArray dynarray;\n",
    "    DArray_init(&dynarray);\n",
    "    printf(\"%d %d\\n\", dynarray.upto, dynarray.size);\n",
    "    int i;\n",
    "    for (i = 0; i < 200; i++) {\n",
    "        append(&dynarray, i);\n",
    "        printf(\"upto %d size %d val %d\\n\", dynarray.upto, dynarray.size, get(&dynarray, i));\n",
    "    }\n",
    "    for (i = 185; i < 190; i++) {\n",
    "        set(&dynarray, i, i+1);\n",
    "        printf(\"i %d val %d\\n\", i, get(&dynarray, i));\n",
    "    }\n",
    "    for (i = 180; i < 182; i++) {\n",
    "        delete(&dynarray, i);\n",
    "        printf(\"i %d val %d upto %d\\n\", i, get(&dynarray, i), dynarray.upto);\n",
    "    }\n",
    "    for (i = 180; i < 195; i++) {\n",
    "        printf(\"val %d index %d\\n\", i, get_index(&dynarray, i));\n",
    "    }\n",
    "    DArray_free(&dynarray);\n",
    "}"
   ]
  },
  {
   "cell_type": "markdown",
   "metadata": {},
   "source": [
    "Compile and run it thus:"
   ]
  },
  {
   "cell_type": "code",
   "execution_count": 4,
   "metadata": {
    "collapsed": false
   },
   "outputs": [
    {
     "name": "stdout",
     "output_type": "stream",
     "text": [
      "\u001b[1mdynamic_array2.c:53:5: \u001b[0m\u001b[0;1;31merror: \u001b[0m\u001b[1mconflicting types for 'DArray_free'\u001b[0m\n",
      "int DArray_free(DArray *arr) {\n",
      "\u001b[0;1;32m    ^\n",
      "\u001b[0m\u001b[1m./dynamic_array.h:15:6: \u001b[0m\u001b[0;1;30mnote: \u001b[0mprevious declaration is here\u001b[0m\n",
      "void DArray_free(DArray* arr);\n",
      "\u001b[0;1;32m     ^\n",
      "\u001b[0m\u001b[1mdynamic_array2.c:58:5: \u001b[0m\u001b[0;1;31merror: \u001b[0m\u001b[1mexpected identifier or '('\u001b[0m\n",
      "    if (index >= arr->upto || index < 0)\n",
      "\u001b[0;1;32m    ^\n",
      "\u001b[0m\u001b[1mdynamic_array2.c:60:5: \u001b[0m\u001b[0;1;35mwarning: \u001b[0m\u001b[1mtype specifier missing, defaults to 'int'\n",
      "      [-Wimplicit-int]\u001b[0m\n",
      "    arr[index] = num;\n",
      "\u001b[0;1;32m    ^\n",
      "\u001b[0m\u001b[1mdynamic_array2.c:60:9: \u001b[0m\u001b[0;1;31merror: \u001b[0m\u001b[1msize of array has non-integer type 'char *(const\n",
      "      char *, int)'\u001b[0m\n",
      "    arr[index] = num;\n",
      "\u001b[0;1;32m        ^~~~~\n",
      "\u001b[0m\u001b[1mdynamic_array2.c:60:18: \u001b[0m\u001b[0;1;31merror: \u001b[0m\u001b[1muse of undeclared identifier 'num'\u001b[0m\n",
      "    arr[index] = num;\n",
      "\u001b[0;1;32m                 ^\n",
      "\u001b[0m\u001b[1mdynamic_array2.c:61:5: \u001b[0m\u001b[0;1;31merror: \u001b[0m\u001b[1mexpected identifier or '('\u001b[0m\n",
      "    return arr;\n",
      "\u001b[0;1;32m    ^\n",
      "\u001b[0m\u001b[1mdynamic_array2.c:62:1: \u001b[0m\u001b[0;1;31merror: \u001b[0m\u001b[1mextraneous closing brace ('}')\u001b[0m\n",
      "}\n",
      "\u001b[0;1;32m^\n",
      "\u001b[0m\u001b[1mdynamic_array2.c:65:15: \u001b[0m\u001b[0;1;35mwarning: \u001b[0m\u001b[1mordered comparison between pointer and integer\n",
      "      ('char *(*)(const char *, int)' and 'int')\u001b[0m\n",
      "    if (index >= arr->upto || index < 0)\n",
      "\u001b[0;1;32m        ~~~~~ ^  ~~~~~~~~~\n",
      "\u001b[0m\u001b[1mdynamic_array2.c:68:10: \u001b[0m\u001b[0;1;35mwarning: \u001b[0m\u001b[1mincompatible pointer to integer conversion\n",
      "      assigning to 'int' from 'char *(const char *, int)' [-Wint-conversion]\u001b[0m\n",
      "    for(i=index;i < arr->upto - 1;i++){\n",
      "\u001b[0;1;32m         ^~~~~~\n",
      "\u001b[0m3 warnings and 6 errors generated.\n"
     ]
    }
   ],
   "source": [
    "!gcc -o dademo2 dademo2.c dynamic_array2.c"
   ]
  },
  {
   "cell_type": "code",
   "execution_count": 5,
   "metadata": {
    "collapsed": false
   },
   "outputs": [
    {
     "name": "stdout",
     "output_type": "stream",
     "text": [
      "/bin/sh: ./dademo2: No such file or directory\r\n"
     ]
    }
   ],
   "source": [
    "!./dademo2"
   ]
  },
  {
   "cell_type": "markdown",
   "metadata": {},
   "source": [
    "Copy the above output into the first answer on the google form. (http://goo.gl/forms/rH5he0YC44)"
   ]
  },
  {
   "cell_type": "markdown",
   "metadata": {},
   "source": [
    "## 2. Linked List\n",
    "\n",
    "If we put all our code into one file, we dont need to write the header file, since we use our interfaces in the same file. This does not makefor code usable by others, but as we hae seen ealier, is useful for quick playing and testing.\n",
    "\n",
    "Provided below are parts of a partially implemented linked list in C. Implement the functions:\n",
    "\n",
    "- `int get_index(Item* listptr, int value)` which returns the index at which the value is found, and otherwise -1.\n",
    "- `Item* remove_item(Item* listptr, int value)`. Be careful to return NULL if the item with `value` was not in the list, and make sure that deletion repoints the pointer of the previous item to the next item."
   ]
  },
  {
   "cell_type": "code",
   "execution_count": 20,
   "metadata": {
    "collapsed": false
   },
   "outputs": [
    {
     "name": "stdout",
     "output_type": "stream",
     "text": [
      "Overwriting linked_list_incomplete.c\n"
     ]
    }
   ],
   "source": [
    "%%file linked_list_incomplete.c\n",
    "\n",
    "#include <stdlib.h>\n",
    "#include <stdio.h>\n",
    "\n",
    "typedef struct item {\n",
    "    int value;\n",
    "    struct item* rest;\n",
    "} Item;\n",
    "\n",
    "Item* new_item(int value){\n",
    "    Item* newitem = (Item *) malloc(sizeof(Item));\n",
    "    newitem->value = value;\n",
    "    newitem->rest = NULL;\n",
    "    return newitem;\n",
    "}\n",
    "\n",
    "Item* insert_front(Item* listptr, int value){\n",
    "    Item* newitem = new_item(value);\n",
    "    newitem->rest = listptr;\n",
    "    return newitem;\n",
    "}\n",
    "\n",
    "\n",
    "int get(Item* listptr, int index){\n",
    "    int ctr = 0;\n",
    "    Item* p;\n",
    "    for(p = listptr; p!= NULL; p = p->rest){\n",
    "        if (ctr==index){\n",
    "            return p->value;\n",
    "        }\n",
    "        ctr++;\n",
    "    }\n",
    "    return -1;\n",
    "}\n",
    "\n",
    "\n",
    "void free_all(Item* listptr) {\n",
    "    Item *p;\n",
    "    Item *next;\n",
    "    for(p = listptr; p!= NULL; p = next){\n",
    "        next = p->rest;\n",
    "        free(p);\n",
    "    }\n",
    "}\n",
    "\n",
    "int get_index(Item* listptr, int value) {\n",
    "    \n",
    "}\n",
    "\n",
    "Item* remove_item(Item* listptr, int value){\n",
    "    \n",
    "}\n",
    "\n",
    "int main(){\n",
    "    Item* listptr;\n",
    "    int i;\n",
    "    listptr = new_item(0);\n",
    "    for (i=1; i < 6; i++){\n",
    "        listptr=insert_front(listptr, i);\n",
    "    }\n",
    "    for (i=0; i < 6; i++){\n",
    "        printf(\"i %d Item %d\\n\", i, get(listptr, i));\n",
    "    }\n",
    "    listptr = remove_item(listptr, 3);\n",
    "    for (i=0; i <= 5; i++){\n",
    "        printf(\"i %d Item %d\\n\", i, get(listptr, i));\n",
    "    }\n",
    "    printf(\"Index for 3 %d\\n\", get_index(listptr, 3));\n",
    "    free_all(listptr);\n",
    "}"
   ]
  },
  {
   "cell_type": "markdown",
   "metadata": {},
   "source": [
    "Add the two functions and write your code here."
   ]
  },
  {
   "cell_type": "code",
   "execution_count": 50,
   "metadata": {
    "collapsed": false
   },
   "outputs": [
    {
     "name": "stdout",
     "output_type": "stream",
     "text": [
      "Overwriting linked_list.c\n"
     ]
    }
   ],
   "source": [
    "%%file linked_list.c\n",
    "#include <stdlib.h>\n",
    "#include <stdio.h>\n",
    "\n",
    "typedef struct item {\n",
    "    int value;\n",
    "    struct item* rest;\n",
    "} Item;\n",
    "\n",
    "Item* new_item(int value){\n",
    "    Item* newitem = (Item *) malloc(sizeof(Item));\n",
    "    newitem->value = value;\n",
    "    newitem->rest = NULL;\n",
    "    return newitem;\n",
    "}\n",
    "\n",
    "Item* insert_front(Item* listptr, int value){\n",
    "    Item* newitem = new_item(value);\n",
    "    newitem->rest = listptr;\n",
    "    return newitem;\n",
    "}\n",
    "\n",
    "\n",
    "int get(Item* listptr, int index){\n",
    "    int ctr = 0;\n",
    "    Item* p;\n",
    "    for(p = listptr; p!= NULL; p = p->rest){\n",
    "        if (ctr==index){\n",
    "            return p->value;\n",
    "        }\n",
    "        ctr++;\n",
    "    }\n",
    "    return -1;\n",
    "}\n",
    "\n",
    "\n",
    "void free_all(Item* listptr) {\n",
    "    Item *p;\n",
    "    Item *next;\n",
    "    for(p = listptr; p!= NULL; p = next){\n",
    "        next = p->rest;\n",
    "        free(p);\n",
    "    }\n",
    "}\n",
    "\n",
    "int get_index(Item* listptr, int value) {\n",
    "    int index = 0;\n",
    "    Item* p;\n",
    "    for(p = listptr; p != NULL; p = p->rest) {\n",
    "        if (p-> value == value){\n",
    "            return index;\n",
    "        }\n",
    "        index++;\n",
    "    }\n",
    "    return -1;\n",
    "}\n",
    "\n",
    "Item* remove_item(Item* listptr, int value){\n",
    "    Item* prev = listptr;\n",
    "    Item* p = prev->rest;\n",
    "    if(prev->value == value){\n",
    "        free(prev);\n",
    "    }\n",
    "    \n",
    "    for(p = p; p != NULL; p = p->rest) {\n",
    "        if (p-> value == value){\n",
    "            prev->rest = p->rest;\n",
    "            free(p);\n",
    "            return listptr;\n",
    "        }\n",
    "        prev = p;\n",
    "    }\n",
    "    return NULL;\n",
    "}\n",
    "\n",
    "int main(){\n",
    "    Item* listptr;\n",
    "    int i;\n",
    "    listptr = new_item(0);\n",
    "    for (i=1; i < 6; i++){\n",
    "        listptr=insert_front(listptr, i);\n",
    "    }\n",
    "    for (i=0; i < 6; i++){\n",
    "        printf(\"i %d Item %d\\n\", i, get(listptr, i));\n",
    "    }\n",
    "    listptr = remove_item(listptr, 3);\n",
    "    for (i=0; i <= 5; i++){\n",
    "        printf(\"i %d Item %d\\n\", i, get(listptr, i));\n",
    "    }\n",
    "    printf(\"Index for 3 %d\\n\", get_index(listptr, 3));\n",
    "    free_all(listptr);\n",
    "}\n"
   ]
  },
  {
   "cell_type": "code",
   "execution_count": 51,
   "metadata": {
    "collapsed": false
   },
   "outputs": [],
   "source": [
    "!gcc -o linked_list -g linked_list.c"
   ]
  },
  {
   "cell_type": "code",
   "execution_count": 52,
   "metadata": {
    "collapsed": false
   },
   "outputs": [
    {
     "name": "stdout",
     "output_type": "stream",
     "text": [
      "i 0 Item 5\r\n",
      "i 1 Item 4\r\n",
      "i 2 Item 3\r\n",
      "i 3 Item 2\r\n",
      "i 4 Item 1\r\n",
      "i 5 Item 0\r\n",
      "i 0 Item 5\r\n",
      "i 1 Item 4\r\n",
      "i 2 Item 2\r\n",
      "i 3 Item 1\r\n",
      "i 4 Item 0\r\n",
      "i 5 Item -1\r\n",
      "Index for 3 -1\r\n"
     ]
    }
   ],
   "source": [
    "!./linked_list"
   ]
  },
  {
   "cell_type": "markdown",
   "metadata": {},
   "source": [
    "Copy this output to the second answer on the google form. (http://goo.gl/forms/rH5he0YC44)"
   ]
  }
 ],
 "metadata": {
  "kernelspec": {
   "display_name": "Python 3",
   "language": "python",
   "name": "python3"
  },
  "language_info": {
   "codemirror_mode": {
    "name": "ipython",
    "version": 3
   },
   "file_extension": ".py",
   "mimetype": "text/x-python",
   "name": "python",
   "nbconvert_exporter": "python",
   "pygments_lexer": "ipython3",
   "version": "3.5.1"
  }
 },
 "nbformat": 4,
 "nbformat_minor": 0
}
